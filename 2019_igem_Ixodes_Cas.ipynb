{
 "cells": [
  {
   "cell_type": "code",
   "execution_count": 17,
   "metadata": {},
   "outputs": [],
   "source": [
    "from Bio import Entrez\n",
    "from Bio import SeqIO\n",
    "from Bio.Seq import Seq\n",
    "from Bio.SeqRecord import SeqRecord\n",
    "import re\n",
    "\n",
    "Entrez.email = 'sasha.grrshnova98@gmail.com'"
   ]
  },
  {
   "cell_type": "code",
   "execution_count": 15,
   "metadata": {
    "collapsed": true
   },
   "outputs": [],
   "source": [
    "#get sequence by id from ncbi genbank\n",
    "\n",
    "def id_search(seq_id):\n",
    "    handle=Entrez.efetch(db=\"nucleotide\", id = seq_id, rettype='fasta')\n",
    "    for seq_record in SeqIO.parse(handle,'fasta'):\n",
    "        return seq_record.seq"
   ]
  },
  {
   "cell_type": "code",
   "execution_count": 19,
   "metadata": {},
   "outputs": [],
   "source": [
    "#get B.burgdorferi genome\n",
    "\n",
    "seq_id = 'NC_001318.1'\n",
    "\n",
    "Bburgdorferi_genome = id_search(seq_id)"
   ]
  },
  {
   "cell_type": "code",
   "execution_count": 30,
   "metadata": {
    "collapsed": true
   },
   "outputs": [],
   "source": [
    "#retrieve PAM positions in genome/gene from seq - Watson strand\n",
    "\n",
    "def PAM_search(seq):\n",
    "    \n",
    "    genome = str(seq)\n",
    "    \n",
    "    PAM_positions = {}\n",
    "    PAM_count = {}\n",
    "\n",
    "    PAM_pos = []\n",
    "    for m in re.finditer(r\"[ACGT]GG\", genome):\n",
    "        PAM_pos.append(m.start())\n",
    "        PAM_positions['SpCas9'] = PAM_pos\n",
    "        PAM_count['SpCas9'] = len(PAM_pos)\n",
    "    \n",
    "    PAM_pos = []\n",
    "    for m in re.finditer(r\"[ACGT]G[AG][AG]T\", genome):\n",
    "        PAM_pos.append(m.start())\n",
    "        PAM_positions['SaCas9_1'] = PAM_pos\n",
    "        PAM_count['SaCas9_1'] = len(PAM_pos)\n",
    "\n",
    "    PAM_pos = []\n",
    "    for m in re.finditer(r\"[ACGT]G[AG][AG][ACGT]\", genome):\n",
    "        PAM_pos.append(m.start())\n",
    "        PAM_positions['SaCas9_2'] = PAM_pos\n",
    "        PAM_count['SaCas9_2'] = len(PAM_pos)\n",
    "    \n",
    "    PAM_pos = []\n",
    "    for m in re.finditer(r\"[ACGT][ACGT][ACGT][ACGT][AG][CT]AC\", genome):\n",
    "        PAM_pos.append(m.start())\n",
    "        PAM_positions['CjCas9'] = PAM_pos\n",
    "        PAM_count['CjCas9'] = len(PAM_pos)\n",
    "\n",
    "    return PAM_positions"
   ]
  },
  {
   "cell_type": "code",
   "execution_count": 31,
   "metadata": {},
   "outputs": [],
   "source": [
    "Bburgdorferi_PAM = PAM_search(Bburgdorferi_genome)"
   ]
  },
  {
   "cell_type": "code",
   "execution_count": 32,
   "metadata": {},
   "outputs": [
    {
     "name": "stdout",
     "output_type": "stream",
     "text": [
      "{'SpCas9': 19252, 'SaCas9_1': 11338, 'SaCas9_2': 28741, 'CjCas9': 5752}\n"
     ]
    }
   ],
   "source": [
    "#number of PAM for different Cas9 proteins in B.burgdorferi genome\n",
    "\n",
    "Bburgdorferi_PAM_cnt = {}\n",
    "for k in Bburgdorferi_PAM.keys():\n",
    "    Bburgdorferi_PAM_cnt[k] = len(Bburgdorferi_PAM.get(k))\n",
    "    \n",
    "print(Bburgdorferi_PAM_cnt)"
   ]
  },
  {
   "cell_type": "code",
   "execution_count": 33,
   "metadata": {},
   "outputs": [
    {
     "data": {
      "image/png": "[encoded data removed]",
      "text/plain": [
       "<matplotlib.figure.Figure at 0x2573827fc50>"
      ]
     },
     "metadata": {},
     "output_type": "display_data"
    }
   ],
   "source": [
    "#histogram - number of PAM for different Cas9 proteins in B.burgdorferi genome\n",
    "\n",
    "import matplotlib.pyplot as plt\n",
    "\n",
    "plt.bar(list(Bburgdorferi_PAM_cnt.keys()), Bburgdorferi_PAM_cnt.values())\n",
    "plt.show()"
   ]
  },
  {
   "cell_type": "code",
   "execution_count": null,
   "metadata": {
    "collapsed": true
   },
   "outputs": [],
   "source": [
    "#Watson 5' -> 3' and Crick 3' -> 5' strands\n",
    "\n",
    "Watson_strand = Bburgdorferi_genome\n",
    "Crick_strand = Watson_strand.reverse_complement()[::-1]"
   ]
  },
  {
   "cell_type": "code",
   "execution_count": 45,
   "metadata": {
    "collapsed": true
   },
   "outputs": [],
   "source": [
    "#retrieve PAM positions in genome/gene from seq - Crick strand\n",
    "\n",
    "def PAM_rev_search(seq):\n",
    "    \n",
    "    C_strand = str(Watson_strand.reverse_complement()[::-1])\n",
    "\n",
    "    PAM_positions = {}\n",
    "\n",
    "    PAM_pos = []\n",
    "    \n",
    "    for m in re.finditer(r\"GG[ACGT]\", C_strand):\n",
    "        PAM_pos.append(m.start())\n",
    "        PAM_positions['SpCas9'] = PAM_pos\n",
    "    \n",
    "    return PAM_positions"
   ]
  },
  {
   "cell_type": "code",
   "execution_count": 48,
   "metadata": {
    "collapsed": true
   },
   "outputs": [],
   "source": [
    "#retrieve PAM positions in B.burgdorferi genome - Watson and Crick strand\n",
    "\n",
    "PAM_rev_pos = PAM_rev_search(Bburgdorferi_genome)\n",
    "PAM_pos = PAM_search(Bburgdorferi_genome)"
   ]
  },
  {
   "cell_type": "code",
   "execution_count": 49,
   "metadata": {
    "collapsed": true
   },
   "outputs": [],
   "source": [
    "PAM_SpCas9_pos = PAM_pos[\"SpCas9\"]\n",
    "PAM_SpCas9_rev_pos = PAM_rev_pos"
   ]
  },
  {
   "cell_type": "code",
   "execution_count": 50,
   "metadata": {
    "collapsed": true
   },
   "outputs": [],
   "source": [
    "#+26 PAM_SpCas9_pos\n",
    "\n",
    "PAM_SpCas9_pos_y = []\n",
    "\n",
    "for el in PAM_SpCas9_pos:\n",
    "    PAM_SpCas9_pos_y.append(el + 26)"
   ]
  },
  {
   "cell_type": "code",
   "execution_count": 52,
   "metadata": {},
   "outputs": [],
   "source": [
    "#check if val from PAM_SpCas9_pos_y list is in PAM_SpCas9_rev_pos\n",
    "\n",
    "PAM_pairs = {}\n",
    "\n",
    "for el in PAM_SpCas9_pos_y:\n",
    "    if el in set(PAM_SpCas9_rev_pos['SpCas9']):\n",
    "        PAM_pairs[el-26] = el"
   ]
  },
  {
   "cell_type": "code",
   "execution_count": 54,
   "metadata": {
    "collapsed": true
   },
   "outputs": [],
   "source": [
    "#create PAM 26 file -> coordinates of selected PAMs\n",
    "\n",
    "f = open(\"PAM_pairs_distance_26.txt\", \"a\")\n",
    "for k in PAM_pairs.keys():\n",
    "    a = str(k)+' '+str(PAM_pairs[k])+'\\n'\n",
    "    f.write(a)\n",
    "f.close()"
   ]
  },
  {
   "cell_type": "code",
   "execution_count": null,
   "metadata": {
    "collapsed": true
   },
   "outputs": [],
   "source": [
    "#PAM_SpCas9_pos is a dict; PAM_SpCas9_rev_pos is a dict\n",
    "\n",
    "PAM_SpCas9_pos = PAM_pos[\"SpCas9\"]\n",
    "PAM_SpCas9_rev_pos = PAM_rev_pos[\"SpCas9\"]"
   ]
  },
  {
   "cell_type": "code",
   "execution_count": null,
   "metadata": {
    "collapsed": true
   },
   "outputs": [],
   "source": [
    "#create df_PAM; 1 - Watson, 0 - Crick\n",
    "\n",
    "import pandas as pd\n",
    "df_PAM = pd.DataFrame({\"PAM_pos\" : PAM_SpCas9_pos, \"Strand\" : 0})"
   ]
  },
  {
   "cell_type": "code",
   "execution_count": null,
   "metadata": {
    "collapsed": true
   },
   "outputs": [],
   "source": [
    "#create df_PAM_rev; 1 - Watson, 0 - Crick\n",
    "\n",
    "import pandas as pd\n",
    "df_PAM_rev = pd.DataFrame({\"PAM_pos\" : PAM_SpCas9_rev_pos, \"Strand\" : 1})"
   ]
  },
  {
   "cell_type": "code",
   "execution_count": null,
   "metadata": {
    "collapsed": true
   },
   "outputs": [],
   "source": [
    "df_all_PAMs = pd.concat([df_PAM, df_PAM_rev])"
   ]
  }
 ],
 "metadata": {
  "kernelspec": {
   "display_name": "Python 3",
   "language": "python",
   "name": "python3"
  },
  "language_info": {
   "codemirror_mode": {
    "name": "ipython",
    "version": 3
   },
   "file_extension": ".py",
   "mimetype": "text/x-python",
   "name": "python",
   "nbconvert_exporter": "python",
   "pygments_lexer": "ipython3",
   "version": "3.6.3"
  }
 },
 "nbformat": 4,
 "nbformat_minor": 2
}
